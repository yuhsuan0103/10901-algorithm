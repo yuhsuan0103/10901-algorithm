{
  "nbformat": 4,
  "nbformat_minor": 0,
  "metadata": {
    "colab": {
      "name": "「1118期中考」的副本",
      "provenance": [],
      "include_colab_link": true
    },
    "kernelspec": {
      "name": "python3",
      "display_name": "Python 3"
    }
  },
  "cells": [
    {
      "cell_type": "markdown",
      "metadata": {
        "id": "view-in-github",
        "colab_type": "text"
      },
      "source": [
        "<a href=\"https://colab.research.google.com/github/yuhsuan0103/10901-algorithm/blob/master/1118%E6%9C%9F%E4%B8%AD%E8%80%83.ipynb\" target=\"_parent\"><img src=\"https://colab.research.google.com/assets/colab-badge.svg\" alt=\"Open In Colab\"/></a>"
      ]
    },
    {
      "cell_type": "markdown",
      "metadata": {
        "id": "bG-sEx0CwTZC"
      },
      "source": [
        "insertsection(小到大)"
      ]
    },
    {
      "cell_type": "code",
      "metadata": {
        "colab": {
          "base_uri": "https://localhost:8080/"
        },
        "id": "CKWJWu1cwQTF",
        "outputId": "e987c032-f6fa-4b60-cdad-2cd3b5274017"
      },
      "source": [
        "import random\n",
        "\n",
        "li =[]; #設一個空陣列\n",
        "i=1;   #設一變數i=1\n",
        "while i<=8:               #此while迴圈使用上面的變數i，當i<=8時持續運作\n",
        "  num = random.randint(1,100);    #設一變數num去隨機產出位於1~100的整數\n",
        "  li.append(num);           #將num加入陣列li\n",
        "  i+=1;                #加入一次num後i+1使while迴圈能夠正常運作直到陣列li裡面有8個隨機整數\n",
        "print(\"原始數列：\",li) #print出原始數列\n",
        "\n",
        "\n",
        "def Insertion_Sort(datas):\n",
        "    for i in range(1, len(datas)):  \n",
        "        for j in range(i):\n",
        "            current = datas[i]\n",
        "            if current < datas[j]:\n",
        "                for k in range(i,j):\n",
        "                  print(datas)\n",
        "    return datas\n",
        "\n",
        "\n",
        "def insertionSort(arr):\n",
        "    time=0  #設一變數time用於計算排列次數\n",
        "    for i in range(len(arr)): #比較陣列中的數，若前一值比當下取的值還大時，兩者互換\n",
        "        preIndex = i-1\n",
        "        current = arr[i]\n",
        "        time+=1                  #運作一次迴圈時time+1(用於下面的while迴圈)\n",
        "        while preIndex >= 0 and arr[preIndex] > current:\n",
        "            arr[preIndex+1] = arr[preIndex]\n",
        "            preIndex-=1\n",
        "        arr[preIndex+1] = current\n",
        "        while time>1:               #當time>1時print出一次當次(time-1)排列的數列\n",
        "          print(\"第%d次排列：\"%(time-1),arr)   #因為當time=1時print出的是第0次=原始數列，不需要兩次原始數列故限制住\n",
        "          break\n",
        "    return arr\n",
        "\n",
        "if __name__ == '__main__':\n",
        "    a = li.copy()\n",
        "\n",
        "    arr = insertionSort(li)\n",
        "    Insertion_Sort(a)\n",
        "    print('---'*10)\n"
      ],
      "execution_count": null,
      "outputs": [
        {
          "output_type": "stream",
          "text": [
            "原始數列： [91, 95, 48, 85, 15, 45, 81, 14]\n",
            "第1次排列： [91, 95, 48, 85, 15, 45, 81, 14]\n",
            "第2次排列： [48, 91, 95, 85, 15, 45, 81, 14]\n",
            "第3次排列： [48, 85, 91, 95, 15, 45, 81, 14]\n",
            "第4次排列： [15, 48, 85, 91, 95, 45, 81, 14]\n",
            "第5次排列： [15, 45, 48, 85, 91, 95, 81, 14]\n",
            "第6次排列： [15, 45, 48, 81, 85, 91, 95, 14]\n",
            "第7次排列： [14, 15, 45, 48, 81, 85, 91, 95]\n",
            "------------------------------\n"
          ],
          "name": "stdout"
        }
      ]
    },
    {
      "cell_type": "markdown",
      "metadata": {
        "id": "NU5mXBlPDorR"
      },
      "source": [
        "selection(大到小)"
      ]
    },
    {
      "cell_type": "code",
      "metadata": {
        "id": "CwIwKfQk1xaw",
        "colab": {
          "base_uri": "https://localhost:8080/"
        },
        "outputId": "e5303a15-dbaa-4c06-d6a1-31fe59189d29"
      },
      "source": [
        "import random\n",
        "\n",
        "li =[]; #設一個空陣列\n",
        "i=1;   #設一變數i=1\n",
        "while i<=8:               #此while迴圈使用上面的變數i，當i<=8時持續運作\n",
        "  num = random.randint(1,100);    #設一變數num去隨機產出位於1~100的整數\n",
        "  li.append(num);           #將num加入陣列li\n",
        "  i+=1;                #加入一次num後i+1使while迴圈能夠正常運作直到陣列li裡面有8個隨機整數\n",
        "\n",
        "\n",
        "def Selction_Sort(datas):\n",
        "    time=0\n",
        "    for i in range(len(datas)-1):\n",
        "        max = i # 第一次選從第一個數開始,第二次從第二個數開始\n",
        "        for j in range(i+1, len(datas)):    #再設一for迴圈，當j在i+1~資料長度之間的位置時，用記錄的max數與其他的比較\n",
        "            if datas[j] > datas[max]:    #如果j的資料比紀錄的max資料大\n",
        "                max = j         #讓max的紀錄替換成j的資料  \n",
        "\n",
        "        datas[i], datas[max] = datas[max], datas[i] #紀錄的max資料會不斷往左移(由大到小排列)\n",
        "        time+=1                  #運作一次時time變數+1\n",
        "        while time>1:               #當time>1時print出一次當次(time-1)排列的數列\n",
        "          print(\"第%d次排列：\"%(time-1),datas)  #因為當time=1時print出的是第0次=原始數列，不需要兩次原始數列故限制住\n",
        "          break\n",
        "\n",
        "        print('---'*10)\n",
        "    return datas\n",
        "\n",
        "\n",
        "if __name__ == '__main__':\n",
        "    print(\"原始數列：\",li) #print出原始數列\n",
        "    li = Selction_Sort(li)\n"
      ],
      "execution_count": null,
      "outputs": [
        {
          "output_type": "stream",
          "text": [
            "原始數列： [11, 77, 31, 89, 25, 73, 23, 43]\n",
            "------------------------------\n",
            "第1次排列： [89, 77, 31, 11, 25, 73, 23, 43]\n",
            "------------------------------\n",
            "第2次排列： [89, 77, 73, 11, 25, 31, 23, 43]\n",
            "------------------------------\n",
            "第3次排列： [89, 77, 73, 43, 25, 31, 23, 11]\n",
            "------------------------------\n",
            "第4次排列： [89, 77, 73, 43, 31, 25, 23, 11]\n",
            "------------------------------\n",
            "第5次排列： [89, 77, 73, 43, 31, 25, 23, 11]\n",
            "------------------------------\n",
            "第6次排列： [89, 77, 73, 43, 31, 25, 23, 11]\n",
            "------------------------------\n"
          ],
          "name": "stdout"
        }
      ]
    }
  ]
}