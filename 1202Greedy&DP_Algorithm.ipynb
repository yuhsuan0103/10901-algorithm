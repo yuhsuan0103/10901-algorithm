{
  "nbformat": 4,
  "nbformat_minor": 0,
  "metadata": {
    "colab": {
      "name": "1202Greedy&DP_Algorithm.ipynb",
      "provenance": [],
      "collapsed_sections": [],
      "authorship_tag": "ABX9TyMGYgzEzsV+v8U5jykzYxdN",
      "include_colab_link": true
    },
    "kernelspec": {
      "name": "python3",
      "display_name": "Python 3"
    }
  },
  "cells": [
    {
      "cell_type": "markdown",
      "metadata": {
        "id": "view-in-github",
        "colab_type": "text"
      },
      "source": [
        "<a href=\"https://colab.research.google.com/github/yuhsuan0103/10901-algorithm/blob/master/1202Greedy%26DP_Algorithm.ipynb\" target=\"_parent\"><img src=\"https://colab.research.google.com/assets/colab-badge.svg\" alt=\"Open In Colab\"/></a>"
      ]
    },
    {
      "cell_type": "markdown",
      "metadata": {
        "id": "U17yQZ1IPXGT"
      },
      "source": [
        "**Greedy 找零問題**"
      ]
    },
    {
      "cell_type": "code",
      "metadata": {
        "colab": {
          "base_uri": "https://localhost:8080/"
        },
        "id": "ZcTd7QbvJE8K",
        "outputId": "66d6dec7-fa4b-49c7-bcfb-20975ef9d8fa"
      },
      "source": [
        "#t=面額\n",
        "t=[25,20,5,1]\n",
        "HOW=int(input(\"請輸入金額\"))\n",
        "print(\"金幣面額分別為：\",t,\"\\n\")\n",
        "#n=多少錢\n",
        "def change(t,n):\n",
        "  m=[0 for _ in range(len(t))] #記錄當下已拿取金幣面額的數量\n",
        "  print(\"檢查已拿取的金幣數量(由金幣面額左至右)：\")\n",
        "  for i,money in enumerate(t):\n",
        "    m[i]=n//money\n",
        "    n=n%money\n",
        "    print(m,\"剩餘金額：\",n,)\n",
        "  print(\"\\n最後依面額\",t,\"拿取方式為\",m)\n",
        "\n",
        "change(t,HOW)"
      ],
      "execution_count": null,
      "outputs": [
        {
          "output_type": "stream",
          "text": [
            "請輸入金額43\n",
            "金幣面額分別為： [25, 20, 5, 1] \n",
            "\n",
            "檢查已拿取的金幣數量(由金幣面額左至右)：\n",
            "[1, 0, 0, 0] 剩餘金額： 18\n",
            "[1, 0, 0, 0] 剩餘金額： 18\n",
            "[1, 0, 3, 0] 剩餘金額： 3\n",
            "[1, 0, 3, 3] 剩餘金額： 0\n",
            "\n",
            "最後依面額 [25, 20, 5, 1] 拿取方式為 [1, 0, 3, 3]\n"
          ],
          "name": "stdout"
        }
      ]
    },
    {
      "cell_type": "markdown",
      "metadata": {
        "id": "60flZgePPZix"
      },
      "source": [
        "**Dynamic Programming(動態規劃) 找零問題**"
      ]
    },
    {
      "cell_type": "code",
      "metadata": {
        "id": "D3I6mLKGOX6f"
      },
      "source": [
        "#t=面額\n",
        "t=[25,20,5,1]"
      ],
      "execution_count": null,
      "outputs": []
    },
    {
      "cell_type": "markdown",
      "metadata": {
        "id": "TWFlfspPUqP1"
      },
      "source": [
        "**Greedy 依負重偷竊最有價值**"
      ]
    },
    {
      "cell_type": "code",
      "metadata": {
        "colab": {
          "base_uri": "https://localhost:8080/"
        },
        "id": "jzxY-us2U0ny",
        "outputId": "35ab54bd-2f89-42a7-eacc-95d0ec53814c"
      },
      "source": [
        "# 商品（價格，重量） \n",
        "goods = [(17000, 5), (35000, 1), (60000, 4), (9000, 3), (20000, 2)] \n",
        "# 商品首先進行排序 \n",
        "goods.sort(key=lambda x: x[0]/x[1], reverse=True) \n",
        "print(\"商品列表(價格，重量)：PS5(17000, 5)、iPad pro 12(35000, 1)、Macbook pro 15(60000, 4)、HomePod(9000, 3)、Mac mini(20000, 2)\")\n",
        "print(\"依價值/重量排列後商品列表(大到小)：\",goods,\"\\n\")\n",
        "\n",
        "# w 表示背包的容量 \n",
        "def fractional_backpack(goods, w): \n",
        "# m 表示每個商品拿走多少個 \n",
        "  total = 0 #用來計算拿走的商品總價值\n",
        "  m = [0 for _ in range(len(goods))] #表示拿走哪些商品\n",
        "  for i, (prize, weight) in enumerate(goods): \n",
        "    if w >= weight: #若背包重量>商品重量(weight)表示背包還有空間\n",
        "      m[i] = 1 \n",
        "      total += prize #將該商品價值加入total\n",
        "      w -= weight #背包空間減少，須扣掉拿走的商品重量表示剩餘的背包負重空間\n",
        "    else: \n",
        "      w = 0 #若背包負重為0則離開迴圈\n",
        "      break \n",
        "      return m, total\n",
        "  print(\"拿取的商品(依據排列後商品列表)：\",m)\n",
        "  print(\"商品總價值：\",total)\n",
        "\n",
        "fractional_backpack(goods, 10)\n",
        "\n"
      ],
      "execution_count": null,
      "outputs": [
        {
          "output_type": "stream",
          "text": [
            "商品列表(價格，重量)：PS5(17000, 5)、iPad pro 12(35000, 1)、Macbook pro 15(60000, 4)、HomePod(9000, 3)、Mac mini(20000, 2)\n",
            "依價值/重量排列後商品列表(大到小)： [(35000, 1), (60000, 4), (20000, 2), (17000, 5), (9000, 3)] \n",
            "\n",
            "拿取的商品(依據排列後商品列表)： [1, 1, 1, 0, 0]\n",
            "商品總價值： 115000\n"
          ],
          "name": "stdout"
        }
      ]
    },
    {
      "cell_type": "markdown",
      "metadata": {
        "id": "QfXs8j43UxFg"
      },
      "source": [
        "**Dynamic Programming(動態規劃) 依負重偷竊最有價值**"
      ]
    }
  ]
}