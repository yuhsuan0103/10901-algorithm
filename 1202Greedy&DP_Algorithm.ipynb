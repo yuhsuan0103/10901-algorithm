{
  "nbformat": 4,
  "nbformat_minor": 0,
  "metadata": {
    "colab": {
      "name": "1202Greedy&DP_Algorithm.ipynb",
      "provenance": [],
      "authorship_tag": "ABX9TyMVhYfTQZho3WW8c4S8VXaP",
      "include_colab_link": true
    },
    "kernelspec": {
      "name": "python3",
      "display_name": "Python 3"
    }
  },
  "cells": [
    {
      "cell_type": "markdown",
      "metadata": {
        "id": "view-in-github",
        "colab_type": "text"
      },
      "source": [
        "<a href=\"https://colab.research.google.com/github/yuhsuan0103/10901-algorithm/blob/master/1202Greedy%26DP_Algorithm.ipynb\" target=\"_parent\"><img src=\"https://colab.research.google.com/assets/colab-badge.svg\" alt=\"Open In Colab\"/></a>"
      ]
    },
    {
      "cell_type": "markdown",
      "metadata": {
        "id": "U17yQZ1IPXGT"
      },
      "source": [
        "Greedy分金幣"
      ]
    },
    {
      "cell_type": "code",
      "metadata": {
        "colab": {
          "base_uri": "https://localhost:8080/"
        },
        "id": "ZcTd7QbvJE8K",
        "outputId": "0fef9052-4519-4eee-e13c-744cd6d58ffc"
      },
      "source": [
        "#t=面額\n",
        "t=[25,20,5,1]\n",
        "HOW=int(input(\"請輸入金額\"))\n",
        "#n=多少錢\n",
        "def change(t,n):\n",
        "  m=[0 for _ in range(len(t))]\n",
        "  num = 1\n",
        "  for i,money in enumerate(t):\n",
        "    m[i]=n//money\n",
        "    n=n%money\n",
        "    num+=1\n",
        "    #return m,n\n",
        "    print(m,n)\n",
        "  print(\"總共需要%d個金幣\"%num)\n",
        "\n",
        "change(t,HOW)"
      ],
      "execution_count": null,
      "outputs": [
        {
          "output_type": "stream",
          "text": [
            "請輸入金額41\n",
            "[1, 0, 0, 0] 16\n",
            "[1, 0, 0, 0] 16\n",
            "[1, 0, 3, 0] 1\n",
            "[1, 0, 3, 1] 0\n",
            "總共需要5個金幣\n"
          ],
          "name": "stdout"
        }
      ]
    },
    {
      "cell_type": "markdown",
      "metadata": {
        "id": "60flZgePPZix"
      },
      "source": [
        "DP分金幣"
      ]
    },
    {
      "cell_type": "code",
      "metadata": {
        "id": "D3I6mLKGOX6f"
      },
      "source": [
        "#t=面額\n",
        "t=[25,20,5,1]"
      ],
      "execution_count": null,
      "outputs": []
    },
    {
      "cell_type": "markdown",
      "metadata": {
        "id": "TWFlfspPUqP1"
      },
      "source": [
        "Greedy小偷 最有價值"
      ]
    },
    {
      "cell_type": "code",
      "metadata": {
        "colab": {
          "base_uri": "https://localhost:8080/"
        },
        "id": "jzxY-us2U0ny",
        "outputId": "e39a2296-6b44-4c49-edce-601cae4dbf6c"
      },
      "source": [
        "# 商品（價格，重量） \n",
        "goods = [(17000, 5), (35000, 1), (60000, 4), (9000, 3), (20000, 2)] \n",
        "# 商品首先進行排序 \n",
        "goods.sort(key=lambda x: x[0]/x[1], reverse=True) \n",
        "print(\"排列後商品列表：\",goods)\n",
        "\n",
        "# w 表示背包的容量 \n",
        "def fractional_backpack(goods, w): \n",
        "# m 表示每個商品拿走多少個 \n",
        "  total = 0 \n",
        "  m = [0 for _ in range(len(goods))] \n",
        "  for i, (prize, weight) in enumerate(goods): \n",
        "    if w >= weight: \n",
        "      m[i] = 1 \n",
        "      total += prize \n",
        "      w -= weight \n",
        "    else: \n",
        "      w = 0 \n",
        "      break \n",
        "      return m, total\n",
        "  print(\"拿取的商品(依據排列後商品列表)：\",m)\n",
        "  print(\"商品總價值：\",total)\n",
        "\n",
        "fractional_backpack(goods, 10)\n",
        "\n"
      ],
      "execution_count": null,
      "outputs": [
        {
          "output_type": "stream",
          "text": [
            "排列後商品列表： [(35000, 1), (60000, 4), (20000, 2), (17000, 5), (9000, 3)]\n",
            "拿取的商品(依據排列後商品列表)： [1, 1, 1, 0, 0]\n",
            "商品總價值： 115000\n"
          ],
          "name": "stdout"
        }
      ]
    },
    {
      "cell_type": "markdown",
      "metadata": {
        "id": "QfXs8j43UxFg"
      },
      "source": [
        "DP小偷 最有價值"
      ]
    }
  ]
}