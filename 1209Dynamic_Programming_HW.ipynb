{
  "nbformat": 4,
  "nbformat_minor": 0,
  "metadata": {
    "colab": {
      "name": "1209Dynamic Programming-HW",
      "provenance": [],
      "collapsed_sections": [],
      "authorship_tag": "ABX9TyNI6LM2Ayp03e6ph/PtLTs8",
      "include_colab_link": true
    },
    "kernelspec": {
      "name": "python3",
      "display_name": "Python 3"
    }
  },
  "cells": [
    {
      "cell_type": "markdown",
      "metadata": {
        "id": "view-in-github",
        "colab_type": "text"
      },
      "source": [
        "<a href=\"https://colab.research.google.com/github/yuhsuan0103/10901-algorithm/blob/master/1209Dynamic_Programming_HW.ipynb\" target=\"_parent\"><img src=\"https://colab.research.google.com/assets/colab-badge.svg\" alt=\"Open In Colab\"/></a>"
      ]
    },
    {
      "cell_type": "markdown",
      "metadata": {
        "id": "AMCssghEXuMI"
      },
      "source": [
        "**Dynamic Programming動態規劃 鋼條切割問題**"
      ]
    },
    {
      "cell_type": "code",
      "metadata": {
        "colab": {
          "base_uri": "https://localhost:8080/"
        },
        "id": "OEkFXHgRXoX-",
        "outputId": "9725a1ce-a637-4bb3-ae63-12ccd290e5d2"
      },
      "source": [
        "def CutRod(p, n): #p為儲存價格表之陣列，n為要切割的鋼條長度。\r\n",
        "    if n == 0:  #鋼條長度為0時就是沒有鋼條的存在，回傳0。\r\n",
        "        return 0\r\n",
        "    q = -1\r\n",
        "    for i in range(1, n+1):\r\n",
        "        q = max(q, p[i] + CutRod(p, n-i)) #用一遞迴函數計算切割後的價值，裡面持續呼叫此函數而將n持續縮小(表示切割後長度變短)\r\n",
        "    return q                     #q一開始設為-1不可能為最大值，讓函式可計算後面的所有可能性，再從中找出最大值\r\n",
        "p=[0,1,5,8,9,10,17,17,20,24,30]   #價格表，對應的鋼條長度。ex.當鋼條長度為2，p[2]=5\r\n",
        "length = int(input(\"請輸入欲切割鋼條之長度，介於1~10：\"))\r\n",
        "\r\n",
        "if length>10:   #若長度大於10則超出價格陣列的長度，無法計算\r\n",
        "  print(\"請輸入小於10之數\\n\")\r\n",
        "  length = int(input(\"請輸入欲切割鋼條之長度，介於1~10：\"))\r\n",
        "if length<0:   #長度不可能為負數\r\n",
        "  print(\"請輸入大於0之數\\n\")\r\n",
        "  length = int(input(\"請輸入欲切割鋼條之長度，介於1~10：\"))\r\n",
        "\r\n",
        "print(\"最大收益為：\",CutRod(p,length))"
      ],
      "execution_count": 16,
      "outputs": [
        {
          "output_type": "stream",
          "text": [
            "請輸入欲切割鋼條之長度，介於1~10：11\n",
            "請輸入小於10之數\n",
            "\n",
            "請輸入欲切割鋼條之長度，介於1~10：-8\n",
            "請輸入大於0之數\n",
            "\n",
            "請輸入欲切割鋼條之長度，介於1~10：7\n",
            "最大收益為： 18\n"
          ],
          "name": "stdout"
        }
      ]
    }
  ]
}