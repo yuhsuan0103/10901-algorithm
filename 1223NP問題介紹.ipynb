{
  "nbformat": 4,
  "nbformat_minor": 0,
  "metadata": {
    "colab": {
      "name": "1223NP問題介紹",
      "provenance": [],
      "authorship_tag": "ABX9TyP3OYFwjlYUTrV0LB6XRvK2",
      "include_colab_link": true
    },
    "kernelspec": {
      "name": "python3",
      "display_name": "Python 3"
    }
  },
  "cells": [
    {
      "cell_type": "markdown",
      "metadata": {
        "id": "view-in-github",
        "colab_type": "text"
      },
      "source": [
        "<a href=\"https://colab.research.google.com/github/yuhsuan0103/10901-algorithm/blob/master/1223NP%E5%95%8F%E9%A1%8C%E4%BB%8B%E7%B4%B9.ipynb\" target=\"_parent\"><img src=\"https://colab.research.google.com/assets/colab-badge.svg\" alt=\"Open In Colab\"/></a>"
      ]
    },
    {
      "cell_type": "markdown",
      "metadata": {
        "id": "GMSPzHM1Y4LJ"
      },
      "source": [
        "舉例：分團問題（clique problem）\r\n",
        "\r\n",
        "問題類型：NP-complete\r\n",
        "\r\n",
        "問題說明：團（clique）是一個圖中兩兩相鄰的一個頂點集或是一個完全子圖（complete subgraph）。分團問題是問一個圖中是否有大小是k以上的團。任意挑出k個點，可以簡單的判斷出這k個點是不是一個團[1]\r\n",
        "\r\n",
        "解法：\r\n",
        "\r\n",
        "1.暴力法。列舉圖中所有k個點的子集合，並檢查它是不是團。在一個有V個點的圖中用暴力法找大小是k的團至少要檢查V!/k!(V-k)!個子集合[1]\r\n",
        "\r\n",
        "2動態規劃。採用動態規劃的思想就是將問題分段求解，可以將問題分為5段：求含有一個、兩個、三個、四個、五個元素的團，其中含有N元素的團必包含含有N-1個元素的團，故只需在上一段問題的答案的基礎上，嘗試給團新增新的元素。[2]\r\n",
        "\r\n",
        "\r\n",
        "參考資料：\r\n",
        "\r\n",
        "[1]分團問題 維基百科，自由的百科全書 https://zh.wikipedia.org/wiki/%E5%88%86%E5%9C%98%E5%95%8F%E9%A1%8C\r\n",
        "\r\n",
        "[2]類動態規劃求解較小規模的最大團問題（Python實現）IT閱讀 https://www.itread01.com/content/1548192787.html\r\n",
        "\r\n",
        "程式解如下，參考資料同[2]"
      ]
    },
    {
      "cell_type": "code",
      "metadata": {
        "colab": {
          "base_uri": "https://localhost:8080/"
        },
        "id": "P-aJ08JkgipA",
        "outputId": "aa800dce-fa1a-4bb2-934b-c1edaf64df4f"
      },
      "source": [
        "V=[0,1,2,3,4]  \r\n",
        "# E=[[1,3,4],[2,4],[4],[4],[]]  \r\n",
        "E=[[1,3,4],[2,3,4],[4],[4],[]]  \r\n",
        "  \r\n",
        "  \r\n",
        "  \r\n",
        "###較小規模的最大團問題  \r\n",
        "import copy  \r\n",
        "  \r\n",
        "def isConnected(u,v):  \r\n",
        "    if u==-1 or v==-1:###虛擬節點-1與所有的節點都相連  \r\n",
        "        return 1  \r\n",
        "    edge_points=E[u]  \r\n",
        "    if v in edge_points:  \r\n",
        "        return 1  \r\n",
        "    else:  \r\n",
        "        edge_points = E[v]  \r\n",
        "        if u in edge_points:  \r\n",
        "            return 1  \r\n",
        "        else:  \r\n",
        "            return 0  \r\n",
        "  \r\n",
        "def isConnectedAll(clique,v):#判斷v是否和clique中所有節點相連  \r\n",
        "    flag = 1  \r\n",
        "    for i in clique:  \r\n",
        "        if not isConnected(i,v):  \r\n",
        "            flag =0  \r\n",
        "            break  \r\n",
        "    return flag  \r\n",
        "  \r\n",
        "class Step:  \r\n",
        "    def __init__(self):  \r\n",
        "        self.maxClique = [] #計算完畢時的解集（每個階段的實際結果）  \r\n",
        "        self.cliqueList = []#計算時用的解集  \r\n",
        "        self.maxnC = 0  \r\n",
        "    def maxCliqn(self):#計算當前階段最大值  \r\n",
        "        max = 0  \r\n",
        "        for clique in self.cliqueList:  \r\n",
        "            if max < len(clique):  \r\n",
        "                max = len(clique)  \r\n",
        "        return max  \r\n",
        "    def isNew(self,clique): #判斷一個解組合是否已經存在於該階段的實際解集中  \r\n",
        "        for cl in self.maxClique:#針對每個已存入的解集進行判斷  \r\n",
        "            diff = list(set(clique).difference(set(cl)))  # 取解的差集  \r\n",
        "            if (len(diff)):  \r\n",
        "                continue      #差集不為空，說明不同，繼續迴圈  \r\n",
        "            else:  \r\n",
        "                return False  # 差集為空,說明有個解完全一樣，返回False \r\n",
        "  \r\n",
        "        return True  \r\n",
        "  \r\n",
        "    def updateMaxClique(self):#更新當前階段的最大團數目  \r\n",
        "        self.maxnC= self.maxCliqn()  \r\n",
        "        for clique in self.cliqueList:  \r\n",
        "            if(len(clique)==self.maxnC):  \r\n",
        "                if self.isNew(clique):  \r\n",
        "                    self.maxClique.append(clique)  \r\n",
        "  \r\n",
        "  \r\n",
        "if __name__ == \"__main__\":  \r\n",
        "    n = len(V)  \r\n",
        "    solutions = {}  \r\n",
        "    for i in range(0,n):  \r\n",
        "        solutions[i]= Step()    #初始化n個階段  \r\n",
        "    for v in V:  \r\n",
        "       a = []  \r\n",
        "       a.append(v)  \r\n",
        "       solutions[0].cliqueList.append(a)  \r\n",
        "    solutions[0].updateMaxClique()#設定初始值  \r\n",
        "  \r\n",
        "    for i in range(1,n):  \r\n",
        "        #cliqList= solutions[i-1].maxClique  \r\n",
        "        preData = solutions[i-1]  \r\n",
        "        cliqList = preData.maxClique  \r\n",
        "        preMax = preData.maxnC  \r\n",
        "        for clique in cliqList:#針對前一階段的每個clique求解  \r\n",
        "            for v in V:#針對所有的點  \r\n",
        "                tempclique = copy.deepcopy(clique)##必須使用深拷貝  \r\n",
        "                if not v in tempclique:#如果該clique沒有包含v  \r\n",
        "                    if isConnectedAll(tempclique,v):#如果v與clique的所有點相連  \r\n",
        "                        tempclique.append(v)#加入該點  \r\n",
        "                        solutions[i].cliqueList.append(tempclique)#加入這個解  \r\n",
        "        solutions[i].updateMaxClique()  \r\n",
        "        if not len(solutions[i].maxClique):#如果已經找不到更多的點加入團，那麼後面的也不用計算了（比如找不到4個的團，那麼5個的團也沒必要再嘗試計算）  \r\n",
        "            break  \r\n",
        "  \r\n",
        "    for i in range(0,n):  \r\n",
        "        print(\"step\"+str(i)+\": \"+str(solutions[i].maxClique))  \r\n",
        "  \r\n",
        "    for i in range(n-1,-1,-1):  \r\n",
        "        solution = solutions[i]  \r\n",
        "        if len(solution.maxClique):  \r\n",
        "            maxn = solution.maxnC  \r\n",
        "            print(\"最大團數目是\"+ str(maxn)+\"個\")  \r\n",
        "            print(\"最大團為:\")  \r\n",
        "            print(solution.maxClique)  \r\n",
        "            break  "
      ],
      "execution_count": 3,
      "outputs": [
        {
          "output_type": "stream",
          "text": [
            "step0: [[0], [1], [2], [3], [4]]\n",
            "step1: [[0, 1], [0, 3], [0, 4], [1, 2], [1, 3], [1, 4], [2, 4], [3, 4]]\n",
            "step2: [[0, 1, 3], [0, 1, 4], [0, 3, 4], [1, 2, 4], [1, 3, 4]]\n",
            "step3: [[0, 1, 3, 4]]\n",
            "step4: []\n",
            "最大團數目是4個\n",
            "最大團為:\n",
            "[[0, 1, 3, 4]]\n"
          ],
          "name": "stdout"
        }
      ]
    }
  ]
}