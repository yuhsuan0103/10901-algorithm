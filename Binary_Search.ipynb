{
  "nbformat": 4,
  "nbformat_minor": 0,
  "metadata": {
    "colab": {
      "name": "Untitled1.ipynb",
      "provenance": [],
      "authorship_tag": "ABX9TyPrC7L04LvzyRFZxd8qgO8o",
      "include_colab_link": true
    },
    "kernelspec": {
      "name": "python3",
      "display_name": "Python 3"
    }
  },
  "cells": [
    {
      "cell_type": "markdown",
      "metadata": {
        "id": "view-in-github",
        "colab_type": "text"
      },
      "source": [
        "<a href=\"https://colab.research.google.com/github/yuhsuan0103/10901-algorithm/blob/master/Binary_Search.ipynb\" target=\"_parent\"><img src=\"https://colab.research.google.com/assets/colab-badge.svg\" alt=\"Open In Colab\"/></a>"
      ]
    },
    {
      "cell_type": "code",
      "metadata": {
        "id": "CBlpZ7Ld8_Jl",
        "outputId": "1fa6bbee-f80a-4fc6-fbb1-13d640ae1d5e",
        "colab": {
          "base_uri": "https://localhost:8080/",
          "height": 187
        }
      },
      "source": [
        "def binarySearch(arr,l,r,x):\n",
        "  if r >=l:\n",
        "    mid = l+(r-l)//2\n",
        "    if arr[mid] == x:\n",
        "      return mid\n",
        "    elif arr[mid] > x:\n",
        "      return binarySearch(arr,l,mid-1,x)\n",
        "    else:\n",
        "      return binarySearch(arr,mid+1,r,x)\n",
        "\n",
        "  else:\n",
        "    return -1\n",
        "\n",
        "def Bubble_Sort(datas):                             #使用bubble sort進行排列\n",
        "    for i in range(1, len(datas)): \n",
        "        for j in range(len(datas)-i):   \n",
        "            if datas[j] > datas[j+1]:   \n",
        "                datas[j], datas[j+1] = datas[j+1], datas[j]\n",
        "    return datas\n",
        "print(\"請輸入五個數字，輸入一個按一次Enter：)\")\n",
        "li =[]; \n",
        "i=1; \n",
        "while i<=5:\n",
        "  num = int(input());\n",
        "  li.append(num);\n",
        "  i+=1; \n",
        " \n",
        "if __name__ == '__main__':\n",
        "    print(\"您輸入的數字\",li); \n",
        "    arr = Bubble_Sort(li); \n",
        "    print(\"排列後的數字\",li); \n",
        "\n",
        "x = int(input(\"輸入想搜尋的數字\"));\n",
        "\n",
        "#Function cail\n",
        "result = binarySearch(li,0,len(li)-1,x)\n",
        "\n",
        "if result != -1:\n",
        "  print(\"元素在索引%d\" %result)\n",
        "else:\n",
        "  print(\"陣列中找不到該元素\")"
      ],
      "execution_count": 9,
      "outputs": [
        {
          "output_type": "stream",
          "text": [
            "請輸入五個數字，輸入一個按一次Enter：)\n",
            "55\n",
            "88\n",
            "98\n",
            "47\n",
            "11\n",
            "您輸入的數字 [55, 88, 98, 47, 11]\n",
            "排列後的數字 [11, 47, 55, 88, 98]\n",
            "輸入想搜尋的數字5\n",
            "陣列中找不到該元素\n"
          ],
          "name": "stdout"
        }
      ]
    },
    {
      "cell_type": "code",
      "metadata": {
        "id": "zjjddd0fARlx"
      },
      "source": [
        "def Bubble_Sort(datas):\n",
        "    for i in range(1, len(datas)): # \n",
        "        for j in range(len(datas)-i):   # \n",
        "            if datas[j] > datas[j+1]:   # \n",
        "                datas[j], datas[j+1] = datas[j+1], datas[j]\n",
        "    return datas\n",
        "print(\"請輸入六個數字，輸入一個按一次Enter：)\") #說明語句讓使用者知道接下來進行的動作\n",
        "li =[]; #新增一個陣列\n",
        "i=1; #定義i\n",
        "while i<=6:\n",
        "  num = int(input());\n",
        "  li.append(num);\n",
        "  i+=1; #新增while迴圈，將使用者輸入的數字加入迴圈，且使用i判斷使用者輸入次數\n",
        " \n",
        "\n",
        "if __name__ == '__main__':\n",
        "    print(\"您輸入的數字\",li); #顯示陣列li\n",
        "    li = Bubble_Sort(li); #將陣列li進行排列\n",
        "    print(\"排列後的數字\",li); #顯示排列後的陣列li"
      ],
      "execution_count": null,
      "outputs": []
    }
  ]
}