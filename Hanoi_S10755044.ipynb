{
  "nbformat": 4,
  "nbformat_minor": 0,
  "metadata": {
    "colab": {
      "name": "Hanoi-S10755044",
      "provenance": [],
      "collapsed_sections": [],
      "authorship_tag": "ABX9TyOeG2tnYy+Kv2gEW+mB/j9J",
      "include_colab_link": true
    },
    "kernelspec": {
      "name": "python3",
      "display_name": "Python 3"
    }
  },
  "cells": [
    {
      "cell_type": "markdown",
      "metadata": {
        "id": "view-in-github",
        "colab_type": "text"
      },
      "source": [
        "<a href=\"https://colab.research.google.com/github/yuhsuan0103/10901-algorithm/blob/master/Hanoi_S10755044.ipynb\" target=\"_parent\"><img src=\"https://colab.research.google.com/assets/colab-badge.svg\" alt=\"Open In Colab\"/></a>"
      ]
    },
    {
      "cell_type": "markdown",
      "metadata": {
        "id": "zunE2MmRPbhv"
      },
      "source": [
        "河內塔"
      ]
    },
    {
      "cell_type": "code",
      "metadata": {
        "id": "3SPQmNzaPa9q"
      },
      "source": [
        "def hanoi(n, A, B, C):\n",
        "    if n == 1:\n",
        "        return [(A, C)]\n",
        "    else:\n",
        "        return hanoi(n-1, A, C, B) + hanoi(1, A, B, C) + hanoi(n-1, B, A, C)\n",
        "n = 5\n",
        "i=0\n",
        "for move in hanoi(int(n), 'A', 'B', 'C'):\n",
        "    i+=1\n",
        "    print(\"%c --> %c\" % move,\" 執行次數：\",i)"
      ],
      "execution_count": null,
      "outputs": []
    }
  ]
}