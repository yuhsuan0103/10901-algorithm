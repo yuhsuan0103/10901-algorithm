{
  "nbformat": 4,
  "nbformat_minor": 0,
  "metadata": {
    "colab": {
      "name": "Hanoi-S10755044",
      "provenance": [],
      "collapsed_sections": [],
      "authorship_tag": "ABX9TyOeG2tnYy+Kv2gEW+mB/j9J",
      "include_colab_link": true
    },
    "kernelspec": {
      "name": "python3",
      "display_name": "Python 3"
    }
  },
  "cells": [
    {
      "cell_type": "markdown",
      "metadata": {
        "id": "view-in-github",
        "colab_type": "text"
      },
      "source": [
        "<a href=\"https://colab.research.google.com/github/yuhsuan0103/10901-algorithm/blob/master/Hanoi_S10755044.ipynb\" target=\"_parent\"><img src=\"https://colab.research.google.com/assets/colab-badge.svg\" alt=\"Open In Colab\"/></a>"
      ]
    },
    {
      "cell_type": "markdown",
      "metadata": {
        "id": "zunE2MmRPbhv"
      },
      "source": [
        "河內塔"
      ]
    },
    {
      "cell_type": "code",
      "metadata": {
        "id": "3SPQmNzaPa9q",
        "outputId": "74ec83b4-734f-4f4d-d012-c018137f49d0",
        "colab": {
          "base_uri": "https://localhost:8080/"
        }
      },
      "source": [
        "def hanoi(n, A, B, C):\n",
        "    if n == 1:\n",
        "        return [(A, C)]\n",
        "    else:\n",
        "        return hanoi(n-1, A, C, B) + hanoi(1, A, B, C) + hanoi(n-1, B, A, C)\n",
        "n = 5\n",
        "i=0\n",
        "for move in hanoi(int(n), 'A', 'B', 'C'):\n",
        "    i+=1\n",
        "    print(\"%c --> %c\" % move,\" 執行次數：\",i)"
      ],
      "execution_count": 1,
      "outputs": [
        {
          "output_type": "stream",
          "text": [
            "A --> C  執行次數： 1\n",
            "A --> B  執行次數： 2\n",
            "C --> B  執行次數： 3\n",
            "A --> C  執行次數： 4\n",
            "B --> A  執行次數： 5\n",
            "B --> C  執行次數： 6\n",
            "A --> C  執行次數： 7\n",
            "A --> B  執行次數： 8\n",
            "C --> B  執行次數： 9\n",
            "C --> A  執行次數： 10\n",
            "B --> A  執行次數： 11\n",
            "C --> B  執行次數： 12\n",
            "A --> C  執行次數： 13\n",
            "A --> B  執行次數： 14\n",
            "C --> B  執行次數： 15\n",
            "A --> C  執行次數： 16\n",
            "B --> A  執行次數： 17\n",
            "B --> C  執行次數： 18\n",
            "A --> C  執行次數： 19\n",
            "B --> A  執行次數： 20\n",
            "C --> B  執行次數： 21\n",
            "C --> A  執行次數： 22\n",
            "B --> A  執行次數： 23\n",
            "B --> C  執行次數： 24\n",
            "A --> C  執行次數： 25\n",
            "A --> B  執行次數： 26\n",
            "C --> B  執行次數： 27\n",
            "A --> C  執行次數： 28\n",
            "B --> A  執行次數： 29\n",
            "B --> C  執行次數： 30\n",
            "A --> C  執行次數： 31\n"
          ],
          "name": "stdout"
        }
      ]
    }
  ]
}