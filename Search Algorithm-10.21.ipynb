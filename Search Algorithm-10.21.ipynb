{
  "nbformat": 4,
  "nbformat_minor": 0,
  "metadata": {
    "colab": {
      "name": "「線性搜尋HW(10.21)」的副本",
      "provenance": [],
      "collapsed_sections": [],
      "authorship_tag": "ABX9TyMbxgh0KM7wVV2/46GrLQPi",
      "include_colab_link": true
    },
    "kernelspec": {
      "name": "python3",
      "display_name": "Python 3"
    }
  },
  "cells": [
    {
      "cell_type": "markdown",
      "metadata": {
        "id": "view-in-github",
        "colab_type": "text"
      },
      "source": [
        "<a href=\"https://colab.research.google.com/github/yuhsuan0103/10901-algorithm/blob/master/Search%20Algorithm-10.21.ipynb\" target=\"_parent\"><img src=\"https://colab.research.google.com/assets/colab-badge.svg\" alt=\"Open In Colab\"/></a>"
      ]
    },
    {
      "cell_type": "code",
      "metadata": {
        "id": "KUTMeMH3CaGb",
        "outputId": "5114c2d8-b187-49b7-9387-6f140e228e85",
        "colab": {
          "base_uri": "https://localhost:8080/",
          "height": 225
        }
      },
      "source": [
        "import random\n",
        "INDEXBOX=10 #雜湊表最大元素\n",
        "MAXNUM=7  #最大資料個數\n",
        "\n",
        "def print_data(data,max_number):  #列印陣列副程式\n",
        "  print('\\t',end='')\n",
        "  for i in range(max_number):\n",
        "    print('[%2d]'%data[i],end='')\n",
        "  print()\n",
        "\n",
        "def create_table(num,index):  #建立雜湊表副程式\n",
        "  tmp=num%INDEXBOX  #雜湊函數=資料%INDEXBOX\n",
        "  while True:\n",
        "    if index[tmp]==-1:  #如果資料對應的位置是空的\n",
        "      index[tmp]=num  #則直接存入資料\n",
        "      break\n",
        "    else:\n",
        "      tmp=(tmp+1)%INDEXBOX  #否則往後找位置存放\n",
        "\n",
        "#Main\n",
        "index=[None]*INDEXBOX\n",
        "data=[None]*MAXNUM\n",
        "\n",
        "print('原始陣列值：')\n",
        "for i in range(MAXNUM): #起始資料值\n",
        "  data[i]=random.randint(1,20)\n",
        "for i in range(INDEXBOX): #清除雜湊表\n",
        "  index[i]=-1\n",
        "print_data(data,MAXNUM)\n",
        "\n",
        "print('雜湊表內容')\n",
        "for i in range(MAXNUM): #建立雜湊表\n",
        "  create_table(data[i],index)\n",
        "  print(' %2d =>' %data[i],end='') #列印單一元素的雜湊表位置\n",
        "  print_data(index,INDEXBOX)\n",
        "\n",
        "print('完成雜湊表：')\n",
        "print_data(index,INDEXBOX) #列印最後完成結果"
      ],
      "execution_count": null,
      "outputs": [
        {
          "output_type": "stream",
          "text": [
            "原始陣列值：\n",
            "\t[ 9][20][ 9][20][ 5][17][ 5]\n",
            "雜湊表內容\n",
            "  9 =>\t[-1][-1][-1][-1][-1][-1][-1][-1][-1][ 9]\n",
            " 20 =>\t[20][-1][-1][-1][-1][-1][-1][-1][-1][ 9]\n",
            "  9 =>\t[20][ 9][-1][-1][-1][-1][-1][-1][-1][ 9]\n",
            " 20 =>\t[20][ 9][20][-1][-1][-1][-1][-1][-1][ 9]\n",
            "  5 =>\t[20][ 9][20][-1][-1][ 5][-1][-1][-1][ 9]\n",
            " 17 =>\t[20][ 9][20][-1][-1][ 5][-1][17][-1][ 9]\n",
            "  5 =>\t[20][ 9][20][-1][-1][ 5][ 5][17][-1][ 9]\n",
            "完成雜湊表：\n",
            "\t[20][ 9][20][-1][-1][ 5][ 5][17][-1][ 9]\n"
          ],
          "name": "stdout"
        }
      ]
    },
    {
      "cell_type": "markdown",
      "metadata": {
        "id": "Mqnu9Q9THdrs"
      },
      "source": [
        "平方"
      ]
    },
    {
      "cell_type": "code",
      "metadata": {
        "id": "zaM89FBbHdUe",
        "outputId": "9ebc0ecb-de67-4c43-8701-180b2bb9bf97",
        "colab": {
          "base_uri": "https://localhost:8080/",
          "height": 218
        }
      },
      "source": [
        "import random\n",
        "INDEXBOX=10 #雜湊表最大元素\n",
        "MAXNUM=7  #最大資料個數\n",
        "\n",
        "\n",
        "def print_data(data,max_number):  #列印陣列副程式 #不用改\n",
        "  print('\\t',end='')\n",
        "  for i in range(max_number):\n",
        "    print('[%2d]'%data[i],end='')\n",
        "  print()\n",
        "\n",
        "def create_table(num,index):  #建立雜湊表副程式 #改這裡\n",
        "  a=1\n",
        "  tmp=num%INDEXBOX  #雜湊函數=資料%INDEXBOX\n",
        "  while True:\n",
        "    if index[tmp]==-1:  #如果資料對應的位置是空的\n",
        "      index[tmp]=num  #則直接存入資料\n",
        "      break\n",
        "    else:\n",
        "      #tmp=(tmp+1)%INDEXBOX  #否則往後找位置存放\n",
        "      tmp=(tmp+a**2-(a-1)**2)%INDEXBOX \n",
        "      a+=1\n",
        "           \n",
        "#Main\n",
        "index=[None]*INDEXBOX\n",
        "data=[None]*MAXNUM\n",
        "\n",
        "print('原始陣列值：')\n",
        "for i in range(MAXNUM): #起始資料值\n",
        "  data[i]=random.randint(1,20)\n",
        "for i in range(INDEXBOX): #清除雜湊表\n",
        "  index[i]=-1\n",
        "print_data(data,MAXNUM)\n",
        "\n",
        "print('雜湊表內容')\n",
        "for i in range(MAXNUM): #建立雜湊表\n",
        "  create_table(data[i],index)\n",
        "  print(' %2d =>' %data[i],end='') #列印單一元素的雜湊表位置\n",
        "  print_data(index,INDEXBOX)\n",
        "\n",
        "print('完成雜湊表：')\n",
        "print_data(index,INDEXBOX) #列印最後完成結果"
      ],
      "execution_count": null,
      "outputs": [
        {
          "output_type": "stream",
          "text": [
            "原始陣列值：\n",
            "\t[ 5][15][ 8][17][ 7][ 7][ 7]\n",
            "雜湊表內容\n",
            "  5 =>\t[-1][-1][-1][-1][-1][ 5][-1][-1][-1][-1]\n",
            " 15 =>\t[-1][-1][-1][-1][-1][ 5][15][-1][-1][-1]\n",
            "  8 =>\t[-1][-1][-1][-1][-1][ 5][15][-1][ 8][-1]\n",
            " 17 =>\t[-1][-1][-1][-1][-1][ 5][15][17][ 8][-1]\n",
            "  7 =>\t[-1][ 7][-1][-1][-1][ 5][15][17][ 8][-1]\n",
            "  7 =>\t[-1][ 7][-1][ 7][-1][ 5][15][17][ 8][-1]\n",
            "  7 =>\t[-1][ 7][ 7][ 7][-1][ 5][15][17][ 8][-1]\n",
            "完成雜湊表：\n",
            "\t[-1][ 7][ 7][ 7][-1][ 5][15][17][ 8][-1]\n"
          ],
          "name": "stdout"
        }
      ]
    },
    {
      "cell_type": "markdown",
      "metadata": {
        "id": "OYw9--17Higj"
      },
      "source": [
        "再雜湊"
      ]
    },
    {
      "cell_type": "code",
      "metadata": {
        "id": "JhkpF6GvHp6M"
      },
      "source": [
        "import random\n",
        "INDEXBOX=10 #雜湊表最大元素\n",
        "MAXNUM=7  #最大資料個數\n",
        "\n",
        "def print_data(data,max_number):  #列印陣列副程式 #不用改\n",
        "  print('\\t',end='')\n",
        "  for i in range(max_number):\n",
        "    print('[%2d]'%data[i],end='')\n",
        "  print()\n",
        "\n",
        "def create_table(num,index):  #建立雜湊表副程式 #改這裡\n",
        "  tmp=num%INDEXBOX  #雜湊函數=資料%INDEXBOX\n",
        "  while True:\n",
        "    if index[tmp]==-1:  #如果資料對應的位置是空的\n",
        "      index[tmp]=num  #則直接存入資料\n",
        "      break\n",
        "    else:\n",
        "      tmp=(tmp+4)%INDEXBOX  #否則往後找位置存放\n",
        "\n",
        "#Main\n",
        "index=[None]*INDEXBOX\n",
        "data=[None]*MAXNUM\n",
        "\n",
        "print('原始陣列值：')\n",
        "for i in range(MAXNUM): #起始資料值\n",
        "  data[i]=random.randint(1,20)\n",
        "for i in range(INDEXBOX): #清除雜湊表\n",
        "  index[i]=-1\n",
        "print_data(data,MAXNUM)\n",
        "\n",
        "print('雜湊表內容')\n",
        "for i in range(MAXNUM): #建立雜湊表\n",
        "  create_table(data[i],index)\n",
        "  print(' %2d =>' %data[i],end='') #列印單一元素的雜湊表位置\n",
        "  print_data(index,INDEXBOX)\n",
        "\n",
        "print('完成雜湊表：')\n",
        "print_data(index,INDEXBOX) #列印最後完成結果"
      ],
      "execution_count": null,
      "outputs": []
    }
  ]
}