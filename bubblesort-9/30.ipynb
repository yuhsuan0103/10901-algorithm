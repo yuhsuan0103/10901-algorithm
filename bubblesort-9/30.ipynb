{
  "nbformat": 4,
  "nbformat_minor": 0,
  "metadata": {
    "colab": {
      "name": "bubblesort.ipynb",
      "provenance": [],
      "include_colab_link": true
    },
    "kernelspec": {
      "name": "python3",
      "display_name": "Python 3"
    }
  },
  "cells": [
    {
      "cell_type": "markdown",
      "metadata": {
        "id": "view-in-github",
        "colab_type": "text"
      },
      "source": [
        "<a href=\"https://colab.research.google.com/github/yuhsuan0103/10901-algorithm/blob/master/bubblesort-9/30.ipynb\" target=\"_parent\"><img src=\"https://colab.research.google.com/assets/colab-badge.svg\" alt=\"Open In Colab\"/></a>"
      ]
    },
    {
      "cell_type": "markdown",
      "metadata": {
        "id": "32sgU0StMiof"
      },
      "source": [
        "Bubble sort (氣泡排序)"
      ]
    },
    {
      "cell_type": "code",
      "metadata": {
        "id": "esB_4fSeMLYJ",
        "outputId": "c63abb61-aa99-4905-9504-e929d74a6d50",
        "colab": {
          "base_uri": "https://localhost:8080/",
          "height": 173
        }
      },
      "source": [
        "def Bubble_Sort(datas):\n",
        "    for i in range(1, len(datas)): # \n",
        "        for j in range(len(datas)-i):   # \n",
        "            if datas[j] > datas[j+1]:   # \n",
        "                datas[j], datas[j+1] = datas[j+1], datas[j]\n",
        "    return datas\n",
        "print(\"請輸入六個數字，輸入一個按一次Enter：)\") #說明語句讓使用者知道接下來進行的動作\n",
        "li =[]; #新增一個陣列\n",
        "i=1; #定義i\n",
        "while i<=6:\n",
        "  num = int(input());\n",
        "  li.append(num);\n",
        "  i+=1; #新增while迴圈，將使用者輸入的數字加入迴圈，且使用i判斷使用者輸入次數\n",
        " \n",
        "\n",
        "if __name__ == '__main__':\n",
        "    #import random\n",
        "    #a = list(range(20))\n",
        "    #random.shuffle(a)\n",
        "    #print(a)\n",
        "    #a = Bubble_Sort(a)\n",
        "    #print(a)\n",
        "    print(\"您輸入的數字\",li); #顯示陣列li\n",
        "    li = Bubble_Sort(li); #將陣列li進行排列\n",
        "    print(\"排列後的數字\",li); #顯示排列後的陣列li"
      ],
      "execution_count": 20,
      "outputs": [
        {
          "output_type": "stream",
          "text": [
            "請輸入六個數字，輸入一個按一次Enter：)\n",
            "5\n",
            "78\n",
            "7\n",
            "5\n",
            "15\n",
            "66\n",
            "您輸入的數字 [5, 78, 7, 5, 15, 66]\n",
            "排列後的數字 [5, 5, 7, 15, 66, 78]\n"
          ],
          "name": "stdout"
        }
      ]
    },
    {
      "cell_type": "markdown",
      "metadata": {
        "id": "MOQ_aZKnM-wL"
      },
      "source": [
        "請加入註解，並將程式修改為加入六個數做氣泡排序\n"
      ]
    }
  ]
}