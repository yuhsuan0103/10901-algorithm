{
  "nbformat": 4,
  "nbformat_minor": 0,
  "metadata": {
    "colab": {
      "name": "insertionsort.ipynb",
      "provenance": [],
      "collapsed_sections": [],
      "include_colab_link": true
    },
    "kernelspec": {
      "name": "python3",
      "display_name": "Python 3"
    }
  },
  "cells": [
    {
      "cell_type": "markdown",
      "metadata": {
        "id": "view-in-github",
        "colab_type": "text"
      },
      "source": [
        "<a href=\"https://colab.research.google.com/github/yuhsuan0103/10901-algorithm/blob/master/insertionsort-9.30.ipynb\" target=\"_parent\"><img src=\"https://colab.research.google.com/assets/colab-badge.svg\" alt=\"Open In Colab\"/></a>"
      ]
    },
    {
      "cell_type": "markdown",
      "metadata": {
        "id": "j95w6SLwOC0z"
      },
      "source": [
        "Insertion sort (插入排序)"
      ]
    },
    {
      "cell_type": "code",
      "metadata": {
        "id": "BxBaYEwzNj_v",
        "outputId": "98cfca73-b9e4-4f30-8924-5aaac0a6e42f",
        "colab": {
          "base_uri": "https://localhost:8080/",
          "height": 217
        }
      },
      "source": [
        "\n",
        "def Insertion_Sort(datas):\n",
        "    for i in range(1, len(datas)):                #n-1=n-1\n",
        "        for j in range(i):                  #(n-1)*n=n^2-n\n",
        "            current = datas[i]               #(n-1)*n*1=n^2-n\n",
        "            if current < datas[j]:            #(n-1)*n*1*1=n^2-n\n",
        "                for k in range(i,j):         #(n-1)*n*1*1*(n-1)=n^3-n^2-n-1\n",
        "                  print(datas)             #(n-1)*n*1*1*(n-1)*1=n^3-n^2-n-1\n",
        "    return datas                          #(n-1)*n*1*1*(n-1)*1=n^3-n^2-n-1\n",
        "                                    \n",
        "                                    #(n-1)+(n^2-n)+(n^2-n)+(n^3-n^2-n-1)+(n^3-n^2-n-1)+(n^3-n^2-n-1)=3n^3-n^2-5n-4\n",
        "\n",
        "def insertionSort(arr):\n",
        "    for i in range(len(arr)):                   #n+1=n+1\n",
        "        preIndex = i-1                     #(n+1)*1=n+1\n",
        "        current = arr[i]                    #(n+1)*1*1=n+1\n",
        "        while preIndex >= 0 and arr[preIndex] > current:  #(n+1)*1*1*n^2=n^3+n^2\n",
        "            arr[preIndex+1] = arr[preIndex]         #(n+1)*1*1*^2*1=n^3+n^2\n",
        "            preIndex-=1                    #(n+1)*1*1*n^2*1*1=n^3+n^2\n",
        "        arr[preIndex+1] = current                #(n+1)*1*1*n^2*1*1*1=n^3+n^2\n",
        "        print(arr)                        #(n+1)*1*1*n^2*1*1*1*1=n^3+n^2\n",
        "    return arr                            #(n+1)*1*1*n^2*1*1*1*1*1=n^3+n^2\n",
        "                                     \n",
        "                                     #(n+1)+(n+1)+(n^3+n^2)+(n^3+n^2)+(n^3+n^2)+(n^3+n^2)+(n^3+n^2)+(n^3+n^2)=6n^3+6n^2+2n+2\n",
        "\n",
        "                                     #(3n^3-n^2-5n-4)+(6n^3+6n^2+2n+2)=9n^3+5n^2-3n-2\n",
        "                                     #時間複雜度為O(n^3)\n",
        "\n",
        "if __name__ == '__main__':                      \n",
        "    import random\n",
        "    a = list(range(10))\n",
        "    random.shuffle(a)\n",
        "    b = a.copy()\n",
        "\n",
        "    arr = insertionSort(a)\n",
        "    print('---'*10)\n",
        "    Insertion_Sort(b)"
      ],
      "execution_count": null,
      "outputs": [
        {
          "output_type": "stream",
          "text": [
            "[1, 7, 0, 2, 5, 9, 3, 4, 8, 6]\n",
            "[1, 7, 0, 2, 5, 9, 3, 4, 8, 6]\n",
            "[0, 1, 7, 2, 5, 9, 3, 4, 8, 6]\n",
            "[0, 1, 2, 7, 5, 9, 3, 4, 8, 6]\n",
            "[0, 1, 2, 5, 7, 9, 3, 4, 8, 6]\n",
            "[0, 1, 2, 5, 7, 9, 3, 4, 8, 6]\n",
            "[0, 1, 2, 3, 5, 7, 9, 4, 8, 6]\n",
            "[0, 1, 2, 3, 4, 5, 7, 9, 8, 6]\n",
            "[0, 1, 2, 3, 4, 5, 7, 8, 9, 6]\n",
            "[0, 1, 2, 3, 4, 5, 6, 7, 8, 9]\n",
            "------------------------------\n"
          ],
          "name": "stdout"
        }
      ]
    }
  ]
}