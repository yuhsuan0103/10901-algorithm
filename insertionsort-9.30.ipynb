{
  "nbformat": 4,
  "nbformat_minor": 0,
  "metadata": {
    "colab": {
      "name": "insertionsort.ipynb",
      "provenance": [],
      "collapsed_sections": [],
      "include_colab_link": true
    },
    "kernelspec": {
      "name": "python3",
      "display_name": "Python 3"
    }
  },
  "cells": [
    {
      "cell_type": "markdown",
      "metadata": {
        "id": "view-in-github",
        "colab_type": "text"
      },
      "source": [
        "<a href=\"https://colab.research.google.com/github/yuhsuan0103/10901-algorithm/blob/master/insertionsort-9.30.ipynb\" target=\"_parent\"><img src=\"https://colab.research.google.com/assets/colab-badge.svg\" alt=\"Open In Colab\"/></a>"
      ]
    },
    {
      "cell_type": "markdown",
      "metadata": {
        "id": "j95w6SLwOC0z"
      },
      "source": [
        "Insertion sort (插入排序)"
      ]
    },
    {
      "cell_type": "code",
      "metadata": {
        "id": "BxBaYEwzNj_v",
        "outputId": "0b65f610-6fb5-49c3-9b9e-a70991e3f97f",
        "colab": {
          "base_uri": "https://localhost:8080/",
          "height": 218
        }
      },
      "source": [
        "\n",
        "def Insertion_Sort(datas):\n",
        "    for i in range(1, len(datas)):                #n-1=n-1\n",
        "        for j in range(i):                  #(n-1)*n=n^2-n\n",
        "            current = datas[i]               #(n-1)*n*1=n^2-n\n",
        "            if current < datas[j]:            #(n-1)*n*1*1=n^2-n\n",
        "                for k in range(i,j):         #(n-1)*n*1*1*(n-1)=n^3-n^2-n-1\n",
        "                  print(datas)             \n",
        "    return datas                          \n",
        "                                    \n",
        "                                    #(n-1)+(n^2-n)+(n^2-n)+(n^3-n^2-n-1)=n^3+n^2-3n-2\n",
        "\n",
        "def insertionSort(arr):\n",
        "    for i in range(len(arr)):                   #n+1=n+1\n",
        "        preIndex = i-1                     #(n+1)*1=n+1\n",
        "        current = arr[i]                    #(n+1)*1*1=n+1\n",
        "        while preIndex >= 0 and arr[preIndex] > current:  #(n+1)*1*1*n^2=n^3+n^2\n",
        "            arr[preIndex+1] = arr[preIndex]         #(n+1)*1*1*^2*1=n^3+n^2\n",
        "            preIndex-=1                    #(n+1)*1*1*n^2*1*1=n^3+n^2\n",
        "        arr[preIndex+1] = current                #(n+1)*1*1*1=n+1\n",
        "        print(arr)                        \n",
        "    return arr                            \n",
        "                                     \n",
        "                                     #(n+1)+(n+1)+(n^3+n^2)+(n^3+n^2)+(n^3+n^2)+(n+1)=3n^3+3n^2+3n+3\n",
        "\n",
        "                                     #(n^3+n^2-3n-2)+(3n^3+3n^2+3n+3)=4n^3+4n^2+1\n",
        "                                     #時間複雜度為O(n^3)\n",
        "\n",
        "if __name__ == '__main__':                      \n",
        "    import random\n",
        "    a = list(range(10))\n",
        "    random.shuffle(a)\n",
        "    b = a.copy()\n",
        "\n",
        "    arr = insertionSort(a)\n",
        "    print('---'*10)\n",
        "    Insertion_Sort(b)\n",
        "\n",
        "print(\"insertion sort需運算4n^3+4n^2+1次，時間複雜度為O(n^3)\")"
      ],
      "execution_count": 1,
      "outputs": [
        {
          "output_type": "stream",
          "text": [
            "[3, 5, 9, 4, 1, 8, 2, 0, 6, 7]\n",
            "[3, 5, 9, 4, 1, 8, 2, 0, 6, 7]\n",
            "[3, 5, 9, 4, 1, 8, 2, 0, 6, 7]\n",
            "[3, 4, 5, 9, 1, 8, 2, 0, 6, 7]\n",
            "[1, 3, 4, 5, 9, 8, 2, 0, 6, 7]\n",
            "[1, 3, 4, 5, 8, 9, 2, 0, 6, 7]\n",
            "[1, 2, 3, 4, 5, 8, 9, 0, 6, 7]\n",
            "[0, 1, 2, 3, 4, 5, 8, 9, 6, 7]\n",
            "[0, 1, 2, 3, 4, 5, 6, 8, 9, 7]\n",
            "[0, 1, 2, 3, 4, 5, 6, 7, 8, 9]\n",
            "------------------------------\n",
            "insertion sort需運算4n^3+4n^2+1次，時間複雜度為O(n^3)\n"
          ],
          "name": "stdout"
        }
      ]
    }
  ]
}