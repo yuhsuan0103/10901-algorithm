{
  "nbformat": 4,
  "nbformat_minor": 0,
  "metadata": {
    "colab": {
      "name": "insertionsort.ipynb",
      "provenance": [],
      "collapsed_sections": [],
      "include_colab_link": true
    },
    "kernelspec": {
      "name": "python3",
      "display_name": "Python 3"
    }
  },
  "cells": [
    {
      "cell_type": "markdown",
      "metadata": {
        "id": "view-in-github",
        "colab_type": "text"
      },
      "source": [
        "<a href=\"https://colab.research.google.com/github/yuhsuan0103/10901-algorithm/blob/master/insertionsort.ipynb\" target=\"_parent\"><img src=\"https://colab.research.google.com/assets/colab-badge.svg\" alt=\"Open In Colab\"/></a>"
      ]
    },
    {
      "cell_type": "markdown",
      "metadata": {
        "id": "j95w6SLwOC0z",
        "colab_type": "text"
      },
      "source": [
        "Insertion sort (插入排序)"
      ]
    },
    {
      "cell_type": "code",
      "metadata": {
        "id": "BxBaYEwzNj_v",
        "colab_type": "code",
        "colab": {
          "base_uri": "https://localhost:8080/",
          "height": 217
        },
        "outputId": "98cfca73-b9e4-4f30-8924-5aaac0a6e42f"
      },
      "source": [
        "\n",
        "def Insertion_Sort(datas):\n",
        "    for i in range(1, len(datas)):  # \n",
        "        for j in range(i):\n",
        "            current = datas[i]\n",
        "            if current < datas[j]:\n",
        "                for k in range(i,j):\n",
        "                  print(datas)\n",
        "    return datas\n",
        "\n",
        "\n",
        "def insertionSort(arr):\n",
        "    for i in range(len(arr)):\n",
        "        preIndex = i-1\n",
        "        current = arr[i]\n",
        "        while preIndex >= 0 and arr[preIndex] > current:\n",
        "            arr[preIndex+1] = arr[preIndex]\n",
        "            preIndex-=1\n",
        "        arr[preIndex+1] = current\n",
        "        print(arr)\n",
        "    return arr\n",
        "\n",
        "if __name__ == '__main__':\n",
        "    import random\n",
        "    a = list(range(10))\n",
        "    random.shuffle(a)\n",
        "    b = a.copy()\n",
        "\n",
        "    arr = insertionSort(a)\n",
        "    print('---'*10)\n",
        "    Insertion_Sort(b)"
      ],
      "execution_count": null,
      "outputs": [
        {
          "output_type": "stream",
          "text": [
            "[1, 7, 0, 2, 5, 9, 3, 4, 8, 6]\n",
            "[1, 7, 0, 2, 5, 9, 3, 4, 8, 6]\n",
            "[0, 1, 7, 2, 5, 9, 3, 4, 8, 6]\n",
            "[0, 1, 2, 7, 5, 9, 3, 4, 8, 6]\n",
            "[0, 1, 2, 5, 7, 9, 3, 4, 8, 6]\n",
            "[0, 1, 2, 5, 7, 9, 3, 4, 8, 6]\n",
            "[0, 1, 2, 3, 5, 7, 9, 4, 8, 6]\n",
            "[0, 1, 2, 3, 4, 5, 7, 9, 8, 6]\n",
            "[0, 1, 2, 3, 4, 5, 7, 8, 9, 6]\n",
            "[0, 1, 2, 3, 4, 5, 6, 7, 8, 9]\n",
            "------------------------------\n"
          ],
          "name": "stdout"
        }
      ]
    }
  ]
}