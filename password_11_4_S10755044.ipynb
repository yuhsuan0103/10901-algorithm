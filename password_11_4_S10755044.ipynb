{
  "nbformat": 4,
  "nbformat_minor": 0,
  "metadata": {
    "colab": {
      "name": "password-11.4-S10755044",
      "provenance": [],
      "collapsed_sections": [],
      "authorship_tag": "ABX9TyNtPK2OEzgQkqecOCMMUu/0",
      "include_colab_link": true
    },
    "kernelspec": {
      "name": "python3",
      "display_name": "Python 3"
    }
  },
  "cells": [
    {
      "cell_type": "markdown",
      "metadata": {
        "id": "view-in-github",
        "colab_type": "text"
      },
      "source": [
        "<a href=\"https://colab.research.google.com/github/yuhsuan0103/10901-algorithm/blob/master/password_11_4_S10755044.ipynb\" target=\"_parent\"><img src=\"https://colab.research.google.com/assets/colab-badge.svg\" alt=\"Open In Colab\"/></a>"
      ]
    },
    {
      "cell_type": "markdown",
      "metadata": {
        "id": "dF74sEW1E7Uj"
      },
      "source": [
        "終極密碼"
      ]
    },
    {
      "cell_type": "code",
      "metadata": {
        "id": "4IFKD4Lo81U4",
        "outputId": "70147957-08ac-46c6-fe08-8bf58c3ab23d",
        "colab": {
          "base_uri": "https://localhost:8080/"
        }
      },
      "source": [
        "import random\n",
        "\n",
        "ans = random.randint(1,100)\n",
        "#print(ans) #測試用，不用在意\n",
        "print(\"密碼介於1~100之間\")\n",
        "minimum = 1\n",
        "maxmum = 100\n",
        "while(True):\n",
        "  guess = int(input(\"請輸入你的猜測：\"))\n",
        "  #print(guess)\n",
        "\n",
        "  if guess == ans:\n",
        "      print(\"恭喜你答對了：)\")\n",
        "      break\n",
        "  elif guess > maxmum or guess < minimum:\n",
        "      print(\"請輸入介於\",minimum,\"~\",maxmum,\"之間的數字\\n\") \n",
        "  elif guess > ans and guess < maxmum:\n",
        "      maxmum = guess\n",
        "      print(\"密碼介於\",minimum,\"~\",maxmum,\"之間\\n\") \n",
        "  elif guess < ans and guess > minimum:\n",
        "      minimum = guess\n",
        "      print(\"密碼介於\",minimum,\"~\",maxmum,\"之間\\n\") \n",
        "\n",
        "\n"
      ],
      "execution_count": null,
      "outputs": [
        {
          "output_type": "stream",
          "text": [
            "密碼介於1~100之間\n",
            "請輸入你的猜測：0\n",
            "請輸入介於 1 ~ 100 之間的數字\n",
            "\n",
            "請輸入你的猜測：20\n",
            "密碼介於 20 ~ 100 之間\n",
            "\n",
            "請輸入你的猜測：65\n",
            "密碼介於 65 ~ 100 之間\n",
            "\n",
            "請輸入你的猜測：55\n",
            "請輸入介於 65 ~ 100 之間的數字\n",
            "\n",
            "請輸入你的猜測：70\n",
            "密碼介於 70 ~ 100 之間\n",
            "\n",
            "請輸入你的猜測：90\n",
            "密碼介於 70 ~ 90 之間\n",
            "\n",
            "請輸入你的猜測：85\n",
            "密碼介於 70 ~ 85 之間\n",
            "\n",
            "請輸入你的猜測：74\n",
            "恭喜你答對了：)\n"
          ],
          "name": "stdout"
        }
      ]
    }
  ]
}