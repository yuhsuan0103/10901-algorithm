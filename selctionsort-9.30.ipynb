{
  "nbformat": 4,
  "nbformat_minor": 0,
  "metadata": {
    "colab": {
      "name": "selctionsort.ipynb",
      "provenance": [],
      "collapsed_sections": [],
      "include_colab_link": true
    },
    "kernelspec": {
      "name": "python3",
      "display_name": "Python 3"
    }
  },
  "cells": [
    {
      "cell_type": "markdown",
      "metadata": {
        "id": "view-in-github",
        "colab_type": "text"
      },
      "source": [
        "<a href=\"https://colab.research.google.com/github/yuhsuan0103/10901-algorithm/blob/master/selctionsort-9.30.ipynb\" target=\"_parent\"><img src=\"https://colab.research.google.com/assets/colab-badge.svg\" alt=\"Open In Colab\"/></a>"
      ]
    },
    {
      "cell_type": "markdown",
      "metadata": {
        "id": "W-Z0kMaDLJOp"
      },
      "source": [
        "Selection sort (選擇排序)"
      ]
    },
    {
      "cell_type": "code",
      "metadata": {
        "id": "8tM3sv79HQ_V",
        "outputId": "b2a7b248-dff8-40a9-f4f0-9e7c158a7c64",
        "colab": {
          "base_uri": "https://localhost:8080/",
          "height": 370
        }
      },
      "source": [
        "def Selction_Sort(datas):\n",
        "    for i in range(len(datas)-1):                         #(n-1)=n-1\n",
        "        min = i # 第一次選從第一個數開始,第二次從第二個數開始         #(n-1)*1=n-1\n",
        "        for j in range(i+1, len(datas)):    # 用記錄的max數與其他的比較 #(n-1)*1*(n-1)=n^2-2n+1\n",
        "            if datas[j] < datas[min]:                   #(n-1)*1*(n-1)*1=n^2-2n+1\n",
        "                min = j                        #(n-1)*1*(n-1)*1*1=n^2-2n+1\n",
        "\n",
        "        datas[i], datas[min] = datas[min], datas[i]             #(n-1)*1*1=n-1\n",
        "\n",
        "        print(datas)\n",
        "        print('---'*10)\n",
        "    return datas\n",
        "\n",
        "                                            #(n-1)+(n-1)+(n^2-2n+1)+(n^2-2n+1)+(n^2-2n+1)+(n-1)=3n^2-3n\n",
        "                                            #時間複雜度為O(n^2)\n",
        "\n",
        "if __name__ == '__main__':\n",
        "    import random\n",
        "    a = list(range(10))\n",
        "    random.shuffle(a)\n",
        "    print(a)\n",
        "    a = Selction_Sort(a)\n",
        "    print(a)\n",
        "\n",
        "\n",
        "print(\"selction sort需運算3n^2-3n次，時間複雜度為O(n^2)\")"
      ],
      "execution_count": 1,
      "outputs": [
        {
          "output_type": "stream",
          "text": [
            "[4, 7, 0, 2, 1, 9, 3, 6, 8, 5]\n",
            "[0, 7, 4, 2, 1, 9, 3, 6, 8, 5]\n",
            "------------------------------\n",
            "[0, 1, 4, 2, 7, 9, 3, 6, 8, 5]\n",
            "------------------------------\n",
            "[0, 1, 2, 4, 7, 9, 3, 6, 8, 5]\n",
            "------------------------------\n",
            "[0, 1, 2, 3, 7, 9, 4, 6, 8, 5]\n",
            "------------------------------\n",
            "[0, 1, 2, 3, 4, 9, 7, 6, 8, 5]\n",
            "------------------------------\n",
            "[0, 1, 2, 3, 4, 5, 7, 6, 8, 9]\n",
            "------------------------------\n",
            "[0, 1, 2, 3, 4, 5, 6, 7, 8, 9]\n",
            "------------------------------\n",
            "[0, 1, 2, 3, 4, 5, 6, 7, 8, 9]\n",
            "------------------------------\n",
            "[0, 1, 2, 3, 4, 5, 6, 7, 8, 9]\n",
            "------------------------------\n",
            "[0, 1, 2, 3, 4, 5, 6, 7, 8, 9]\n",
            "selction sort需運算3n^2-3n次，時間複雜度為O(n^2)\n"
          ],
          "name": "stdout"
        }
      ]
    },
    {
      "cell_type": "markdown",
      "metadata": {
        "id": "MiWPt8bALDN5"
      },
      "source": [
        "請加入註解\n"
      ]
    }
  ]
}