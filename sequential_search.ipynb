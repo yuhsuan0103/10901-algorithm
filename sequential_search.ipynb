{
  "nbformat": 4,
  "nbformat_minor": 0,
  "metadata": {
    "colab": {
      "name": "Untitled0.ipynb",
      "provenance": [],
      "authorship_tag": "ABX9TyP3vjMhajnCZIpfwilobHk4",
      "include_colab_link": true
    },
    "kernelspec": {
      "name": "python3",
      "display_name": "Python 3"
    }
  },
  "cells": [
    {
      "cell_type": "markdown",
      "metadata": {
        "id": "view-in-github",
        "colab_type": "text"
      },
      "source": [
        "<a href=\"https://colab.research.google.com/github/yuhsuan0103/10901-algorithm/blob/master/sequential_search.ipynb\" target=\"_parent\"><img src=\"https://colab.research.google.com/assets/colab-badge.svg\" alt=\"Open In Colab\"/></a>"
      ]
    },
    {
      "cell_type": "code",
      "metadata": {
        "id": "KwrQOtX1w-1K",
        "outputId": "1ba1c861-21c8-45d8-d28a-d878a0a31f3b",
        "colab": {
          "base_uri": "https://localhost:8080/",
          "height": 136
        }
      },
      "source": [
        "data = [20,31,50,17,16,36,19,8]\n",
        "def sequential_search(data,key):\n",
        "  for i in data:\n",
        "    if i == key:\n",
        "      print(\"找到了\")\n",
        "      break\n",
        "    else:\n",
        "      print(\"找不到\")\n",
        "      continue\n",
        "sequential_search(data,19)"
      ],
      "execution_count": 23,
      "outputs": [
        {
          "output_type": "stream",
          "text": [
            "找不到\n",
            "找不到\n",
            "找不到\n",
            "找不到\n",
            "找不到\n",
            "找不到\n",
            "找到了\n"
          ],
          "name": "stdout"
        }
      ]
    },
    {
      "cell_type": "code",
      "metadata": {
        "id": "JAXQo3Z02oCT",
        "outputId": "af6b7cc7-ccc2-4fd8-b999-88e47c13988b",
        "colab": {
          "base_uri": "https://localhost:8080/",
          "height": 68
        }
      },
      "source": [
        "def iterativeLinearSearch (collection,  target_value): \n",
        "\n",
        "    target_index = -1                     #設定一個變數來儲存索引值，出史上未搜尋預設為-1\n",
        "\n",
        "    for val in range(0, len(collection)):          #在數列的範圍內進行搜尋，如果數列中的值與目標值相同，\n",
        "        if(collection[val] == target_value):       #變更上面設定的索引值變數後離開迴圈\n",
        "            target_index = val\n",
        "            break\n",
        "  \n",
        "    return target_index                     #否則回傳值\n",
        "collection = [ 20, 31, 50, 17, 16, 36, 19, 8 ] \n",
        "\n",
        "print(\"請輸入想搜尋的值\")\n",
        "target_value = int(input())\n",
        "target_index = iterativeLinearSearch(collection, target_value) \n",
        "  \n",
        "if target_index != -1:                      #若索引值變數不等於-1即目標值有搜尋到，告訴使用者較直觀的數列位置(索引值+1)\n",
        "    print(\"找到了，在數列中的第%d個\" %(int(target_index)+1)) \n",
        "else: \n",
        "    print(\"該值不存在\")                     #索引數值無變動，回傳不存在"
      ],
      "execution_count": 30,
      "outputs": [
        {
          "output_type": "stream",
          "text": [
            "請輸入想搜尋的值\n",
            "17\n",
            "找到了，索引值4\n"
          ],
          "name": "stdout"
        }
      ]
    }
  ]
}