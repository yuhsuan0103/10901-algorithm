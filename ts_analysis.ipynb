{
  "nbformat": 4,
  "nbformat_minor": 0,
  "metadata": {
    "colab": {
      "name": "Untitled0.ipynb",
      "provenance": [],
      "authorship_tag": "ABX9TyM/ygv0EbFDq5oHARmQCyTW",
      "include_colab_link": true
    },
    "kernelspec": {
      "name": "python3",
      "display_name": "Python 3"
    }
  },
  "cells": [
    {
      "cell_type": "markdown",
      "metadata": {
        "id": "view-in-github",
        "colab_type": "text"
      },
      "source": [
        "<a href=\"https://colab.research.google.com/github/yuhsuan0103/10901-algorithm/blob/master/ts_analysis.ipynb\" target=\"_parent\"><img src=\"https://colab.research.google.com/assets/colab-badge.svg\" alt=\"Open In Colab\"/></a>"
      ]
    },
    {
      "cell_type": "markdown",
      "metadata": {
        "id": "kxL2XRQ1Y4Hl"
      },
      "source": [
        "費伯那西數列-空間換時間(非遞迴)"
      ]
    },
    {
      "cell_type": "code",
      "metadata": {
        "id": "lAVQEePkYIYn",
        "outputId": "1a69a673-b6a5-4cba-93f6-3b45a14661db",
        "colab": {
          "base_uri": "https://localhost:8080/"
        }
      },
      "source": [
        "def fibo(n):\n",
        "  if n==0:\n",
        "    return 0;\n",
        "  elif n<=2:\n",
        "    return 1;\n",
        "  temp = 1\n",
        "  fibo1 = 1;\n",
        "  fibo2 = 0;\n",
        "  i = int();\n",
        "  if n>1:\n",
        "    for i in range(1,n) :\n",
        "      temp=fibo1+fibo2;\n",
        "      fibo2=fibo1;\n",
        "      fibo1=temp;\n",
        "    return temp;\n",
        "\n",
        "print(\"請輸入您想知道的費伯那西數\");\n",
        "num=int(input());\n",
        "print(\"第\",num,\"個的費伯那西數是：\",fibo(num));"
      ],
      "execution_count": 35,
      "outputs": [
        {
          "output_type": "stream",
          "text": [
            "請輸入您想知道的費伯那西數\n",
            "5\n",
            "第 5 個的費伯那西數是： 5\n"
          ],
          "name": "stdout"
        }
      ]
    },
    {
      "cell_type": "markdown",
      "metadata": {
        "id": "PeFHe6OdY2zf"
      },
      "source": [
        "費伯那西數列-時間換空間(遞迴)"
      ]
    },
    {
      "cell_type": "code",
      "metadata": {
        "id": "enNwS0mCYAnK",
        "outputId": "0ceb1ac0-7a36-4b1e-987f-9571a0eb90f0",
        "colab": {
          "base_uri": "https://localhost:8080/"
        }
      },
      "source": [
        "def fibo(n):\n",
        "    if n==0 :\n",
        "      return 0;\n",
        "    elif n==1 :\n",
        "      return 1;  \n",
        "    else :\n",
        "      return fibo(n-1)+fibo(n-2);\n",
        "print(\"請輸入您想知道的費伯那西數\");\n",
        "num=int(input());\n",
        "print(\"第\",num,\"個的費伯那西數是：\",fibo(num));"
      ],
      "execution_count": 26,
      "outputs": [
        {
          "output_type": "stream",
          "text": [
            "請輸入您想知道的費伯那西數\n",
            "5\n",
            "第 5 個的費伯那西數是： 5\n"
          ],
          "name": "stdout"
        }
      ]
    }
  ]
}